{
 "cells": [
  {
   "cell_type": "code",
   "execution_count": 4,
   "id": "fd91562f-b5ec-4ea3-90f4-8e3771e8379c",
   "metadata": {},
   "outputs": [
    {
     "name": "stdout",
     "output_type": "stream",
     "text": [
      "TensorFlow version: 2.10.0\n",
      "Keras version: 2.10.0\n"
     ]
    }
   ],
   "source": [
    "#import necessary liberaries\n",
    "import pandas as pd                              #for data manipulation and analysis\n",
    "import numpy as np                               #for numerical operations\n",
    "import cv2                                       #openCvfor computer vision tasks\n",
    "import PIL                                       #python imaging library for image processing \n",
    "import matplotlib.pyplot as plt                  #for creating plots and visualisations\n",
    "                     #interactive plotting library\n",
    "import seaborn as sns                            #statistical data visualization\n",
    "import glob                                      #for searching files using patterns\n",
    "import random                                    #for generating random numbers\n",
    "import os                                        #for interacting with operating system\n",
    "import pydicom\n",
    "import keras.utils as image\n",
    "%matplotlib inline\n",
    "import tensorflow as tf\n",
    "import os                               #for listing files in directory\n",
    "import matplotlib.pyplot as plt\n",
    "\n",
    "\n",
    "print(\"TensorFlow version:\", tf.__version__)\n",
    "print(\"Keras version:\", keras.__version__)\n",
    "#set seed for reproducibility\n",
    "random.seed(100)\n",
    "np.random.seed(100)"
   ]
  },
  {
   "cell_type": "code",
   "execution_count": null,
   "id": "a10c7e51-91c9-4ce0-ad3a-a09d41885b6f",
   "metadata": {},
   "outputs": [],
   "source": []
  }
 ],
 "metadata": {
  "kernelspec": {
   "display_name": "Python 3 (ipykernel)",
   "language": "python",
   "name": "python3"
  },
  "language_info": {
   "codemirror_mode": {
    "name": "ipython",
    "version": 3
   },
   "file_extension": ".py",
   "mimetype": "text/x-python",
   "name": "python",
   "nbconvert_exporter": "python",
   "pygments_lexer": "ipython3",
   "version": "3.10.13"
  }
 },
 "nbformat": 4,
 "nbformat_minor": 5
}
